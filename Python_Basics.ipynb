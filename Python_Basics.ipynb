{
 "cells": [
  {
   "cell_type": "markdown",
   "id": "d0a95827",
   "metadata": {},
   "source": [
    "## Python Basics\n",
    "### 1. Data Types"
   ]
  },
  {
   "cell_type": "code",
   "execution_count": 1,
   "id": "94107675",
   "metadata": {},
   "outputs": [
    {
     "data": {
      "text/plain": [
       "int"
      ]
     },
     "execution_count": 1,
     "metadata": {},
     "output_type": "execute_result"
    }
   ],
   "source": [
    "type(1)"
   ]
  },
  {
   "cell_type": "code",
   "execution_count": 2,
   "id": "c37425b6",
   "metadata": {},
   "outputs": [
    {
     "data": {
      "text/plain": [
       "float"
      ]
     },
     "execution_count": 2,
     "metadata": {},
     "output_type": "execute_result"
    }
   ],
   "source": [
    "type(1.001)"
   ]
  },
  {
   "cell_type": "code",
   "execution_count": 4,
   "id": "c20d5712",
   "metadata": {},
   "outputs": [
    {
     "data": {
      "text/plain": [
       "bool"
      ]
     },
     "execution_count": 4,
     "metadata": {},
     "output_type": "execute_result"
    }
   ],
   "source": [
    "type(True)"
   ]
  },
  {
   "cell_type": "code",
   "execution_count": 5,
   "id": "d62f63d1",
   "metadata": {},
   "outputs": [
    {
     "data": {
      "text/plain": [
       "str"
      ]
     },
     "execution_count": 5,
     "metadata": {},
     "output_type": "execute_result"
    }
   ],
   "source": [
    "type(\"aritra\")"
   ]
  },
  {
   "cell_type": "markdown",
   "id": "61232993",
   "metadata": {},
   "source": [
    "### 2. Declaring variables"
   ]
  },
  {
   "cell_type": "code",
   "execution_count": 13,
   "id": "99239ca5",
   "metadata": {},
   "outputs": [],
   "source": [
    "first_name = 'aritra'\n",
    "last_name = 'Mukhopadhyay'"
   ]
  },
  {
   "cell_type": "code",
   "execution_count": 18,
   "id": "0bf19e2e",
   "metadata": {},
   "outputs": [
    {
     "name": "stdout",
     "output_type": "stream",
     "text": [
      "aritra Mukhopadhyay\n"
     ]
    }
   ],
   "source": [
    "print(first_name,last_name)"
   ]
  },
  {
   "cell_type": "code",
   "execution_count": 19,
   "id": "287a76d0",
   "metadata": {},
   "outputs": [
    {
     "name": "stdout",
     "output_type": "stream",
     "text": [
      "My first name is aritra and last name is Mukhopadhyay\n"
     ]
    }
   ],
   "source": [
    "print(\"My first name is {} and last name is {}\". format(first_name,last_name))"
   ]
  },
  {
   "cell_type": "code",
   "execution_count": 20,
   "id": "aff9cbad",
   "metadata": {},
   "outputs": [
    {
     "name": "stdout",
     "output_type": "stream",
     "text": [
      "6\n",
      "18\n"
     ]
    }
   ],
   "source": [
    "# length of string using 'len' function -\n",
    "\n",
    "print(len(first_name))\n",
    "print(len(first_name+last_name))"
   ]
  },
  {
   "cell_type": "markdown",
   "id": "c16b1000",
   "metadata": {},
   "source": [
    "### 3. Python Data Structutres\n",
    "#### List"
   ]
  },
  {
   "cell_type": "code",
   "execution_count": 28,
   "id": "181a2283",
   "metadata": {},
   "outputs": [],
   "source": [
    "#List or array - \n",
    "# List is mutable\n",
    "# Empty List Declaratons --- \n",
    "\n",
    "list1 = [] \n",
    "list2 = list()"
   ]
  },
  {
   "cell_type": "code",
   "execution_count": 29,
   "id": "566e71b7",
   "metadata": {},
   "outputs": [
    {
     "data": {
      "text/plain": [
       "list"
      ]
     },
     "execution_count": 29,
     "metadata": {},
     "output_type": "execute_result"
    }
   ],
   "source": [
    "type(list1)"
   ]
  },
  {
   "cell_type": "code",
   "execution_count": 30,
   "id": "10409319",
   "metadata": {},
   "outputs": [
    {
     "data": {
      "text/plain": [
       "list"
      ]
     },
     "execution_count": 30,
     "metadata": {},
     "output_type": "execute_result"
    }
   ],
   "source": [
    "type(list2)"
   ]
  },
  {
   "cell_type": "code",
   "execution_count": 33,
   "id": "d0481d96",
   "metadata": {},
   "outputs": [],
   "source": [
    "list2 = [\"Aritra\", \"Mukhopadhyay\", 22, 2023, 9.23]"
   ]
  },
  {
   "cell_type": "markdown",
   "id": "0559bb58",
   "metadata": {},
   "source": [
    "#### Append -\n",
    "It allows to append an item at the end of the list.\n",
    "     "
   ]
  },
  {
   "cell_type": "code",
   "execution_count": 34,
   "id": "ea10195a",
   "metadata": {},
   "outputs": [],
   "source": [
    "list2.append('KIIT')"
   ]
  },
  {
   "cell_type": "code",
   "execution_count": 35,
   "id": "e961449c",
   "metadata": {},
   "outputs": [
    {
     "data": {
      "text/plain": [
       "['Aritra', 'Mukhopadhyay', 22, 2023, 9.23, 'KIIT']"
      ]
     },
     "execution_count": 35,
     "metadata": {},
     "output_type": "execute_result"
    }
   ],
   "source": [
    "list2"
   ]
  },
  {
   "cell_type": "code",
   "execution_count": 36,
   "id": "49788054",
   "metadata": {},
   "outputs": [
    {
     "data": {
      "text/plain": [
       "['Mukhopadhyay', 22, 2023, 9.23, 'KIIT']"
      ]
     },
     "execution_count": 36,
     "metadata": {},
     "output_type": "execute_result"
    }
   ],
   "source": [
    "list2[1:]"
   ]
  },
  {
   "cell_type": "code",
   "execution_count": 37,
   "id": "83409ab3",
   "metadata": {},
   "outputs": [
    {
     "data": {
      "text/plain": [
       "['Mukhopadhyay', 22, 2023, 9.23]"
      ]
     },
     "execution_count": 37,
     "metadata": {},
     "output_type": "execute_result"
    }
   ],
   "source": [
    "list2[1:5] ## [a:b] here a is inclusive and b is exclusive"
   ]
  },
  {
   "cell_type": "markdown",
   "id": "7f811f52",
   "metadata": {},
   "source": [
    "#### Insert - \n",
    "To insert an item at specific index"
   ]
  },
  {
   "cell_type": "code",
   "execution_count": 51,
   "id": "970d0382",
   "metadata": {},
   "outputs": [],
   "source": [
    "list1 = [1,2,3,4]"
   ]
  },
  {
   "cell_type": "code",
   "execution_count": 52,
   "id": "75d181fa",
   "metadata": {},
   "outputs": [],
   "source": [
    "list1.insert(2,\"abc\")"
   ]
  },
  {
   "cell_type": "code",
   "execution_count": 53,
   "id": "4d83ffe6",
   "metadata": {},
   "outputs": [
    {
     "data": {
      "text/plain": [
       "[1, 2, 'abc', 3, 4]"
      ]
     },
     "execution_count": 53,
     "metadata": {},
     "output_type": "execute_result"
    }
   ],
   "source": [
    "list1"
   ]
  },
  {
   "cell_type": "markdown",
   "id": "81c00b7d",
   "metadata": {},
   "source": [
    "#### Append vs Extend"
   ]
  },
  {
   "cell_type": "code",
   "execution_count": 54,
   "id": "2448829a",
   "metadata": {},
   "outputs": [],
   "source": [
    "list1.append([6,7]) # appends as nested list"
   ]
  },
  {
   "cell_type": "code",
   "execution_count": 55,
   "id": "ee6fa295",
   "metadata": {},
   "outputs": [
    {
     "data": {
      "text/plain": [
       "[1, 2, 'abc', 3, 4, [6, 7]]"
      ]
     },
     "execution_count": 55,
     "metadata": {},
     "output_type": "execute_result"
    }
   ],
   "source": [
    "list1"
   ]
  },
  {
   "cell_type": "code",
   "execution_count": 56,
   "id": "ea06248b",
   "metadata": {},
   "outputs": [],
   "source": [
    "list1.extend([9,10]) # appends the elements of iterable(list, tuple, set, string) into the list as items"
   ]
  },
  {
   "cell_type": "code",
   "execution_count": 57,
   "id": "658f0ea8",
   "metadata": {},
   "outputs": [
    {
     "data": {
      "text/plain": [
       "[1, 2, 'abc', 3, 4, [6, 7], 9, 10]"
      ]
     },
     "execution_count": 57,
     "metadata": {},
     "output_type": "execute_result"
    }
   ],
   "source": [
    "list1"
   ]
  },
  {
   "cell_type": "code",
   "execution_count": 58,
   "id": "0779b573",
   "metadata": {},
   "outputs": [],
   "source": [
    "list1.extend('abcd')"
   ]
  },
  {
   "cell_type": "code",
   "execution_count": 59,
   "id": "2840741d",
   "metadata": {},
   "outputs": [
    {
     "data": {
      "text/plain": [
       "[1, 2, 'abc', 3, 4, [6, 7], 9, 10, 'a', 'b', 'c', 'd']"
      ]
     },
     "execution_count": 59,
     "metadata": {},
     "output_type": "execute_result"
    }
   ],
   "source": [
    "list1"
   ]
  },
  {
   "cell_type": "markdown",
   "id": "dd67a153",
   "metadata": {},
   "source": [
    "### Operations on List"
   ]
  },
  {
   "cell_type": "code",
   "execution_count": 60,
   "id": "59a4d320",
   "metadata": {},
   "outputs": [],
   "source": [
    "list3 = [1,2,3,4]"
   ]
  },
  {
   "cell_type": "code",
   "execution_count": 61,
   "id": "9d421fd2",
   "metadata": {},
   "outputs": [
    {
     "data": {
      "text/plain": [
       "10"
      ]
     },
     "execution_count": 61,
     "metadata": {},
     "output_type": "execute_result"
    }
   ],
   "source": [
    "sum(list3)"
   ]
  },
  {
   "cell_type": "code",
   "execution_count": 62,
   "id": "6b8fc4ef",
   "metadata": {},
   "outputs": [],
   "source": [
    "# Pop()"
   ]
  },
  {
   "cell_type": "code",
   "execution_count": 63,
   "id": "d08e331f",
   "metadata": {},
   "outputs": [
    {
     "data": {
      "text/plain": [
       "4"
      ]
     },
     "execution_count": 63,
     "metadata": {},
     "output_type": "execute_result"
    }
   ],
   "source": [
    "list3.pop()"
   ]
  },
  {
   "cell_type": "code",
   "execution_count": 64,
   "id": "1b75d1ce",
   "metadata": {},
   "outputs": [
    {
     "data": {
      "text/plain": [
       "[1, 2, 3]"
      ]
     },
     "execution_count": 64,
     "metadata": {},
     "output_type": "execute_result"
    }
   ],
   "source": [
    "list3"
   ]
  },
  {
   "cell_type": "code",
   "execution_count": 65,
   "id": "9fb45fea",
   "metadata": {},
   "outputs": [
    {
     "data": {
      "text/plain": [
       "2"
      ]
     },
     "execution_count": 65,
     "metadata": {},
     "output_type": "execute_result"
    }
   ],
   "source": [
    "list3.pop(1) # removes the item at 1st index"
   ]
  },
  {
   "cell_type": "code",
   "execution_count": 66,
   "id": "37d05522",
   "metadata": {},
   "outputs": [],
   "source": [
    "list3 = [1,1,3,4,5,5,5,6]"
   ]
  },
  {
   "cell_type": "code",
   "execution_count": 70,
   "id": "50bf8fe1",
   "metadata": {},
   "outputs": [],
   "source": [
    "# count() - calculate the total occurences of given element of the list\n",
    "# time complexity - O(n)"
   ]
  },
  {
   "cell_type": "code",
   "execution_count": 68,
   "id": "581af79d",
   "metadata": {},
   "outputs": [
    {
     "data": {
      "text/plain": [
       "2"
      ]
     },
     "execution_count": 68,
     "metadata": {},
     "output_type": "execute_result"
    }
   ],
   "source": [
    "list3.count(1)"
   ]
  },
  {
   "cell_type": "code",
   "execution_count": 69,
   "id": "8152c533",
   "metadata": {},
   "outputs": [
    {
     "data": {
      "text/plain": [
       "3"
      ]
     },
     "execution_count": 69,
     "metadata": {},
     "output_type": "execute_result"
    }
   ],
   "source": [
    "list3.count(5)"
   ]
  },
  {
   "cell_type": "code",
   "execution_count": 73,
   "id": "31a0baca",
   "metadata": {},
   "outputs": [
    {
     "data": {
      "text/plain": [
       "3"
      ]
     },
     "execution_count": 73,
     "metadata": {},
     "output_type": "execute_result"
    }
   ],
   "source": [
    "# index() - returns the index of first occurence. start_index and end_index are oprional\n",
    "# index(value, start_index, end_index)\n",
    "\n",
    "list3.index(4)"
   ]
  },
  {
   "cell_type": "code",
   "execution_count": 74,
   "id": "a5089ebe",
   "metadata": {},
   "outputs": [
    {
     "data": {
      "text/plain": [
       "1"
      ]
     },
     "execution_count": 74,
     "metadata": {},
     "output_type": "execute_result"
    }
   ],
   "source": [
    "list3.index(1,1,5)"
   ]
  },
  {
   "cell_type": "markdown",
   "id": "0e74a14f",
   "metadata": {},
   "source": [
    "### Sets\n",
    "- It is unordered collection of data\n",
    "- It has no duplicate elemnets\n",
    "- It is the representation of sets in Mathematics\n",
    "- Intersection, Union, Difference operations can be done in sets"
   ]
  },
  {
   "cell_type": "code",
   "execution_count": 11,
   "id": "3fb2a9ac",
   "metadata": {},
   "outputs": [
    {
     "data": {
      "text/plain": [
       "set"
      ]
     },
     "execution_count": 11,
     "metadata": {},
     "output_type": "execute_result"
    }
   ],
   "source": [
    "set1 = set() # Declaring \n",
    "type(set1)"
   ]
  },
  {
   "cell_type": "code",
   "execution_count": 12,
   "id": "2c18cf61",
   "metadata": {},
   "outputs": [],
   "source": [
    "set1 = {1,2,3,4,4,5}"
   ]
  },
  {
   "cell_type": "code",
   "execution_count": 13,
   "id": "e7d482ae",
   "metadata": {},
   "outputs": [
    {
     "data": {
      "text/plain": [
       "{1, 2, 3, 4, 5}"
      ]
     },
     "execution_count": 13,
     "metadata": {},
     "output_type": "execute_result"
    }
   ],
   "source": [
    "set1"
   ]
  },
  {
   "cell_type": "code",
   "execution_count": 14,
   "id": "ed87e4ec",
   "metadata": {},
   "outputs": [],
   "source": [
    "#Indexing in set - Set doesnot support indexing\n",
    "#set1[0] # It will throw error"
   ]
  },
  {
   "cell_type": "markdown",
   "id": "6b63387c",
   "metadata": {},
   "source": [
    "#### Inbuilt functions of sets"
   ]
  },
  {
   "cell_type": "code",
   "execution_count": 15,
   "id": "50519815",
   "metadata": {},
   "outputs": [],
   "source": [
    "set2 = {'Iron Man', 'avengers', 'hitman'}"
   ]
  },
  {
   "cell_type": "code",
   "execution_count": 16,
   "id": "77d295fa",
   "metadata": {},
   "outputs": [],
   "source": [
    "# set.add(value)"
   ]
  },
  {
   "cell_type": "code",
   "execution_count": 17,
   "id": "b15c0fa3",
   "metadata": {},
   "outputs": [
    {
     "data": {
      "text/plain": [
       "{'Iron Man', 'avengers', 'hitman', 'hulk'}"
      ]
     },
     "execution_count": 17,
     "metadata": {},
     "output_type": "execute_result"
    }
   ],
   "source": [
    "set2.add('hulk')\n",
    "set2"
   ]
  },
  {
   "cell_type": "code",
   "execution_count": 19,
   "id": "ebd20a3d",
   "metadata": {},
   "outputs": [],
   "source": [
    "set1 = {'Iron Man', 'avengers', 'hitman'}\n",
    "set2 = {'Iron Man', 'avengers', 'hitman', 'hulk'}"
   ]
  },
  {
   "cell_type": "code",
   "execution_count": 20,
   "id": "e8749859",
   "metadata": {},
   "outputs": [
    {
     "data": {
      "text/plain": [
       "{'hulk'}"
      ]
     },
     "execution_count": 20,
     "metadata": {},
     "output_type": "execute_result"
    }
   ],
   "source": [
    "# Difference - \n",
    "set2.difference(set1)\n",
    "# But set2 will not be updated.\n",
    "# we can use set2.difference_update(set1) to update that\n"
   ]
  },
  {
   "cell_type": "code",
   "execution_count": 21,
   "id": "6d848936",
   "metadata": {},
   "outputs": [
    {
     "data": {
      "text/plain": [
       "{'Iron Man', 'avengers', 'hitman'}"
      ]
     },
     "execution_count": 21,
     "metadata": {},
     "output_type": "execute_result"
    }
   ],
   "source": [
    "# Intersection of 2 sets\n",
    "\n",
    "set2.intersection(set1) \n",
    "# same as difference it will not update set2\n",
    "# use set2.intersection_update(set1)"
   ]
  },
  {
   "cell_type": "markdown",
   "id": "60b31fe1",
   "metadata": {},
   "source": [
    "### Dictionary\n",
    "- key : value pair"
   ]
  },
  {
   "cell_type": "code",
   "execution_count": 24,
   "id": "9c6dc763",
   "metadata": {},
   "outputs": [],
   "source": [
    "# Declaration\n",
    "dict1 = {}"
   ]
  },
  {
   "cell_type": "code",
   "execution_count": 25,
   "id": "14eb6567",
   "metadata": {},
   "outputs": [
    {
     "data": {
      "text/plain": [
       "dict"
      ]
     },
     "execution_count": 25,
     "metadata": {},
     "output_type": "execute_result"
    }
   ],
   "source": [
    "type(dict1)"
   ]
  },
  {
   "cell_type": "code",
   "execution_count": 34,
   "id": "f9713e04",
   "metadata": {},
   "outputs": [],
   "source": [
    "# Creating a Dictionary\n",
    "profile_dict = {\"first_name\":'aritra', \"age\":23, \"college\":'kiit'}"
   ]
  },
  {
   "cell_type": "code",
   "execution_count": 35,
   "id": "2a98541a",
   "metadata": {},
   "outputs": [
    {
     "data": {
      "text/plain": [
       "'aritra'"
      ]
     },
     "execution_count": 35,
     "metadata": {},
     "output_type": "execute_result"
    }
   ],
   "source": [
    "# Retriving values from dictionary\n",
    "profile_dict[\"first_name\"] # use key items to retrieve the value"
   ]
  },
  {
   "cell_type": "code",
   "execution_count": 38,
   "id": "fdeffe71",
   "metadata": {},
   "outputs": [
    {
     "name": "stdout",
     "output_type": "stream",
     "text": [
      "first_name :: aritra\n",
      "age :: 23\n",
      "college :: kiit\n"
     ]
    }
   ],
   "source": [
    "# Iterating in a Dictionary\n",
    "for i in profile_dict:\n",
    "    print(i,\"::\",profile_dict[i])\n",
    "    \n",
    "# if we write {dictionary name} in loop. The looping variable --> keys"
   ]
  },
  {
   "cell_type": "code",
   "execution_count": 39,
   "id": "e04eb805",
   "metadata": {},
   "outputs": [
    {
     "name": "stdout",
     "output_type": "stream",
     "text": [
      "aritra\n",
      "23\n",
      "kiit\n"
     ]
    }
   ],
   "source": [
    "# Iterating inside dictionary and get the values -\n",
    "\n",
    "for i in profile_dict.values():\n",
    "    print(i)"
   ]
  },
  {
   "cell_type": "code",
   "execution_count": 41,
   "id": "2f78b5ba",
   "metadata": {},
   "outputs": [
    {
     "name": "stdout",
     "output_type": "stream",
     "text": [
      "('first_name', 'aritra')\n",
      "<class 'tuple'>\n",
      "('age', 23)\n",
      "<class 'tuple'>\n",
      "('college', 'kiit')\n",
      "<class 'tuple'>\n"
     ]
    }
   ],
   "source": [
    "# looping through dictionary to get both keys and values\n",
    "for i in profile_dict.items():\n",
    "    print(i)\n",
    "    print(type(i))\n",
    "    \n",
    "# \"i\" will print key value in form of tuple\n"
   ]
  },
  {
   "cell_type": "code",
   "execution_count": 43,
   "id": "3603b601",
   "metadata": {},
   "outputs": [
    {
     "data": {
      "text/plain": [
       "dict_items"
      ]
     },
     "execution_count": 43,
     "metadata": {},
     "output_type": "execute_result"
    }
   ],
   "source": [
    "type(profile_dict.items())"
   ]
  },
  {
   "cell_type": "markdown",
   "id": "89b13e3e",
   "metadata": {},
   "source": [
    "### Tuple\n",
    "- Immutable"
   ]
  },
  {
   "cell_type": "code",
   "execution_count": 49,
   "id": "8a897712",
   "metadata": {},
   "outputs": [
    {
     "data": {
      "text/plain": [
       "(1, 2, 3, 4)"
      ]
     },
     "execution_count": 49,
     "metadata": {},
     "output_type": "execute_result"
    }
   ],
   "source": [
    "#Declaration - \n",
    "tuple1 = (1,2,3,4)\n",
    "tuple1"
   ]
  },
  {
   "cell_type": "code",
   "execution_count": 50,
   "id": "c0128c91",
   "metadata": {},
   "outputs": [
    {
     "data": {
      "text/plain": [
       "1"
      ]
     },
     "execution_count": 50,
     "metadata": {},
     "output_type": "execute_result"
    }
   ],
   "source": [
    "# retrieving data from tuple -\n",
    "tuple1[0]"
   ]
  },
  {
   "cell_type": "code",
   "execution_count": 51,
   "id": "d1d49701",
   "metadata": {},
   "outputs": [
    {
     "data": {
      "text/plain": [
       "(4, 5)"
      ]
     },
     "execution_count": 51,
     "metadata": {},
     "output_type": "execute_result"
    }
   ],
   "source": [
    "# we cannot modify items in a tuple\n",
    "#tuple1[0] = 4 # it will throw error\n",
    "\n",
    "# but we can replace the whole tuple\n",
    "tuple1 = (4,5)\n",
    "tuple1"
   ]
  },
  {
   "cell_type": "code",
   "execution_count": null,
   "id": "961afe79",
   "metadata": {},
   "outputs": [],
   "source": []
  }
 ],
 "metadata": {
  "kernelspec": {
   "display_name": "Python 3 (ipykernel)",
   "language": "python",
   "name": "python3"
  },
  "language_info": {
   "codemirror_mode": {
    "name": "ipython",
    "version": 3
   },
   "file_extension": ".py",
   "mimetype": "text/x-python",
   "name": "python",
   "nbconvert_exporter": "python",
   "pygments_lexer": "ipython3",
   "version": "3.9.12"
  }
 },
 "nbformat": 4,
 "nbformat_minor": 5
}
